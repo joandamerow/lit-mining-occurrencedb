{
 "cells": [
  {
   "cell_type": "markdown",
   "metadata": {},
   "source": [
    " # Naive Bayes classifier"
   ]
  },
  {
   "cell_type": "code",
   "execution_count": 1,
   "metadata": {
    "collapsed": true
   },
   "outputs": [],
   "source": [
    "import re\n",
    "from os.path import join\n",
    "from glob import glob\n",
    "from random import shuffle, seed\n",
    "\n",
    "# import regex\n",
    "from tqdm import tqdm_notebook\n",
    "\n",
    "import nltk\n",
    "from nltk.probability import FreqDist, ConditionalFreqDist\n",
    "from nltk.corpus import stopwords\n",
    "from nltk.stem.snowball import SnowballStemmer"
   ]
  },
  {
   "cell_type": "code",
   "execution_count": 2,
   "metadata": {
    "collapsed": true
   },
   "outputs": [],
   "source": [
    "STEMMER = SnowballStemmer('english')\n",
    "SEED = 9745"
   ]
  },
  {
   "cell_type": "markdown",
   "metadata": {},
   "source": [
    "Extract features from the document."
   ]
  },
  {
   "cell_type": "code",
   "execution_count": 3,
   "metadata": {
    "collapsed": true
   },
   "outputs": [],
   "source": [
    "def tokenize(file_name):\n",
    "    text = open(file_name).read().lower()\n",
    "    tokens = nltk.word_tokenize(text)\n",
    "\n",
    "    # Get tokens without stop words\n",
    "    words = [STEMMER.stem(t)\n",
    "             for t in tokens if t not in stopwords.words('english')]\n",
    "\n",
    "    # A word most have 3 or more characters with one letter\n",
    "    words = [w for w in words if len(w) >= 3 and re.match(r'[^\\W\\d\\_]', w)]\n",
    "\n",
    "    return words"
   ]
  },
  {
   "cell_type": "code",
   "execution_count": 4,
   "metadata": {
    "collapsed": true
   },
   "outputs": [],
   "source": [
    "def build_corpus(locations):\n",
    "    corpus = []\n",
    "\n",
    "    for location, category in locations:\n",
    "        files = glob(join(location, '*.txt'))\n",
    "        for file_name in tqdm_notebook(files, desc=category):\n",
    "            corpus.append((tokenize(file_name), category))\n",
    "\n",
    "    return corpus"
   ]
  },
  {
   "cell_type": "code",
   "execution_count": 5,
   "metadata": {
    "collapsed": true
   },
   "outputs": [],
   "source": [
    "def build_frequency_dist(corpus):\n",
    "    all_words = []\n",
    "\n",
    "    for words, label in corpus:\n",
    "        all_words += words\n",
    "\n",
    "    return FreqDist(all_words)"
   ]
  },
  {
   "cell_type": "code",
   "execution_count": 6,
   "metadata": {},
   "outputs": [],
   "source": [
    "def document_features(features, document):\n",
    "    words = set(document[0])\n",
    "    return {w: (w in words) for w in features}"
   ]
  },
  {
   "cell_type": "code",
   "execution_count": null,
   "metadata": {},
   "outputs": [
    {
     "data": {
      "application/vnd.jupyter.widget-view+json": {
       "model_id": "d4ad7c8787fe40c6b45da424692e8111"
      }
     },
     "metadata": {},
     "output_type": "display_data"
    },
    {
     "name": "stdout",
     "output_type": "stream",
     "text": [
      "\n"
     ]
    },
    {
     "data": {
      "application/vnd.jupyter.widget-view+json": {
       "model_id": "3587c5c6ffd84e99a0b8f127c5ceda88"
      }
     },
     "metadata": {},
     "output_type": "display_data"
    }
   ],
   "source": [
    "corpus = build_corpus([('data/Rel-Yes', 'Rel-Yes'),\n",
    "                       ('data/Rel-No', 'Rel-No')])\n",
    "shuffle(corpus)\n",
    "\n",
    "all_words = build_frequency_dist(corpus)"
   ]
  },
  {
   "cell_type": "code",
   "execution_count": null,
   "metadata": {},
   "outputs": [],
   "source": [
    "print(all_words.most_common(10))\n",
    "print(all_words['record'])"
   ]
  },
  {
   "cell_type": "code",
   "execution_count": null,
   "metadata": {},
   "outputs": [],
   "source": [
    "word_features = list(all_words.keys())[:1000]\n",
    "print(word_features[:10])"
   ]
  },
  {
   "cell_type": "code",
   "execution_count": null,
   "metadata": {},
   "outputs": [],
   "source": [
    "feature_set = [(document_features(word_features, d), d[1]) for d in corpus]"
   ]
  },
  {
   "cell_type": "code",
   "execution_count": null,
   "metadata": {},
   "outputs": [],
   "source": []
  },
  {
   "cell_type": "code",
   "execution_count": null,
   "metadata": {
    "collapsed": true
   },
   "outputs": [],
   "source": []
  }
 ],
 "metadata": {
  "kernelspec": {
   "display_name": "Python 3",
   "language": "python",
   "name": "python3"
  },
  "language_info": {
   "codemirror_mode": {
    "name": "ipython",
    "version": 3
   },
   "file_extension": ".py",
   "mimetype": "text/x-python",
   "name": "python",
   "nbconvert_exporter": "python",
   "pygments_lexer": "ipython3",
   "version": "3.6.1"
  }
 },
 "nbformat": 4,
 "nbformat_minor": 2
}
